{
 "cells": [
  {
   "cell_type": "code",
   "execution_count": 412,
   "metadata": {},
   "outputs": [],
   "source": [
    "import numpy as np"
   ]
  },
  {
   "cell_type": "code",
   "execution_count": 413,
   "metadata": {},
   "outputs": [],
   "source": [
    "def keyMatrix(key):\n",
    "    if(len(key) != 9):\n",
    "        print(\"Key should be of length 9\")\n",
    "        return np.array([1,0,0],[0,1,0],[0,0,1])\n",
    "    for i in range(9):\n",
    "        if(key[i]<'A' or key[i]>'Z'):\n",
    "            print(\"Key should be from A to Z\")\n",
    "            return np.array([1,0,0],[0,1,0],[0,0,1])\n",
    "    keyMatrix = np.zeros((3,3),dtype=int)\n",
    "    for i in range(3):\n",
    "        for j in range(3):\n",
    "            keyMatrix[i][j] = (ord(key[3*i+j])-ord('A'))%26\n",
    "    return keyMatrix"
   ]
  },
  {
   "cell_type": "code",
   "execution_count": 414,
   "metadata": {},
   "outputs": [
    {
     "name": "stdout",
     "output_type": "stream",
     "text": [
      "[[ 6 24  1]\n",
      " [13 16 10]\n",
      " [20 17 15]]\n"
     ]
    }
   ],
   "source": [
    "#testing the KeyMatrix function\n",
    "print(keyMatrix(\"GYBNQKURP\"))"
   ]
  },
  {
   "cell_type": "code",
   "execution_count": 415,
   "metadata": {},
   "outputs": [],
   "source": [
    "def encrypt(message,key):\n",
    "    message = message.upper()\n",
    "    key = key.upper()\n",
    "    \n",
    "    keyMat = keyMatrix(key)\n",
    "    n = len(message)\n",
    "    if(n%3!=0):\n",
    "        message += 'X'*(3-n%3)\n",
    "        n = len(message)\n",
    "    cipher = \"\"\n",
    "    for i in range(0,n,3):\n",
    "        messageVec = np.zeros((3,1),dtype=int)\n",
    "        for j in range(3):\n",
    "            messageVec[j][0] = ord(message[i+j])-ord('A')\n",
    "        cipherVec = np.dot(keyMat,messageVec)%26\n",
    "        for j in range(3):\n",
    "            cipher += chr(cipherVec[j][0]+ord('A'))\n",
    "    return cipher"
   ]
  },
  {
   "cell_type": "code",
   "execution_count": 416,
   "metadata": {},
   "outputs": [
    {
     "name": "stdout",
     "output_type": "stream",
     "text": [
      "POH\n",
      "EXVGWMGIE\n"
     ]
    }
   ],
   "source": [
    "#testing the encrypt function\n",
    "print(encrypt(\"ACT\",\"GYBNQKURP\"))\n",
    "print(encrypt(\"THISISYOU\",\"GYBNQKURP\"))"
   ]
  },
  {
   "cell_type": "code",
   "execution_count": 417,
   "metadata": {},
   "outputs": [],
   "source": [
    "def AdotBinv(A,B):\n",
    "    # A dot B inverse using modulo function so that it can be used for Hill Cipher and no float terms\n",
    "    adjoint = np.zeros((3,3),dtype=int)\n",
    "    for i in range(3):\n",
    "        for j in range(3):\n",
    "            adjoint[i][j] = (B[(j+1)%3][(i+1)%3]*B[(j+2)%3][(i+2)%3] - B[(j+1)%3][(i+2)%3]*B[(j+2)%3][(i+1)%3])\n",
    "    # print(adjoint)\n",
    "    det_B = (B[0][0]*(B[1][1]*B[2][2]-B[1][2]*B[2][1]) - B[0][1]*(B[1][0]*B[2][2]-B[1][2]*B[2][0]) + B[0][2]*(B[1][0]*B[2][1]-B[1][1]*B[2][0]))\n",
    "    # print(det_B)\n",
    "    det_inv = pow(int(det_B),-1,26)\n",
    "    ans = np.matmul(A,adjoint)%26\n",
    "    ans = (ans*det_inv)%26\n",
    "    return ans\n",
    "    "
   ]
  },
  {
   "cell_type": "markdown",
   "metadata": {},
   "source": [
    "KeyDiscovery Concept is that\n",
    "cipher_text = C\n",
    "key = K\n",
    "msg_text = M\n",
    "\n",
    "C = K*M mod 26\n",
    "K = C*M_inv mod 26\n",
    "(All operations are also modulo 26)\n"
   ]
  },
  {
   "cell_type": "code",
   "execution_count": 418,
   "metadata": {},
   "outputs": [],
   "source": [
    "def key_discovery(cipher,message):\n",
    "    message = message.upper()\n",
    "    cipher = cipher.upper()\n",
    "    \n",
    "    #given text ABCDEFGHI matrix looks like this [[0,3,6],[1,4,7],[2,5,8]]\n",
    "    if(len(message) < 9):\n",
    "        print(\"Key can't be resolved\")\n",
    "        return \"AAAAAAAAA\"\n",
    "    msgMat = np.zeros((3,3),dtype=int)\n",
    "    for i in range(3):\n",
    "        for j in range(3):\n",
    "            msgMat[j][i] = ord(message[3*i+j])-ord('A')\n",
    "    det = (msgMat[0][0]*(msgMat[1][1]*msgMat[2][2]-msgMat[1][2]*msgMat[2][1]) - msgMat[0][1]*(msgMat[1][0]*msgMat[2][2]-msgMat[1][2]*msgMat[2][0]) + msgMat[0][2]*(msgMat[1][0]*msgMat[2][1]-msgMat[1][1]*msgMat[2][0]))\n",
    "    \n",
    "    #checking if key can be resolved\n",
    "    #only if mod_inv of det w.r.t 26 exists\n",
    "    gcd = np.gcd(det,26)\n",
    "    if(gcd!=1):\n",
    "        return key_discovery(cipher[3:],message[3:])\n",
    "    \n",
    "    cipherMat = np.zeros((3,3),dtype=int)\n",
    "    for i in range(3):\n",
    "        for j in range(3):\n",
    "            cipherMat[j][i] = ord(cipher[3*i+j])-ord('A')\n",
    "            \n",
    "    keyMat = AdotBinv(cipherMat,msgMat)\n",
    "    key = \"\"\n",
    "    for i in range(9):\n",
    "        key += chr(keyMat[i//3][i%3]+ord('A'))\n",
    "    return key"
   ]
  },
  {
   "cell_type": "code",
   "execution_count": 419,
   "metadata": {},
   "outputs": [
    {
     "name": "stdout",
     "output_type": "stream",
     "text": [
      "cipher CMDIVQKUQGCXSOHZZJJYKAWSGSILKORSGLWKABYZVAXHTKFZ\n",
      "discovered_key HILLISEZY\n",
      "cipher_checked CMDIVQKUQGCXSOHZZJJYKAWSGSILKORSGLWKABYZVAXHTKFZ\n",
      "Key found successfully\n"
     ]
    }
   ],
   "source": [
    "#testing the key_discovery function\n",
    "msgtext = \"WHATAREYOUDOINGTHESEDAYSIAMWORKINGONHILLCIPHER\"\n",
    "key = \"HILLISEZY\"\n",
    "\n",
    "# calculating the cipher text\n",
    "cipher = encrypt(msgtext,key)\n",
    "print(\"cipher\",cipher)\n",
    "\n",
    "discovered_key = key_discovery(cipher,msgtext)\n",
    "print(\"discovered_key\",discovered_key)\n",
    "\n",
    "#again checking the key\n",
    "cipher_checked = encrypt(msgtext,discovered_key)\n",
    "print(\"cipher_checked\",cipher_checked)\n",
    "\n",
    "\n",
    "if(cipher == cipher_checked and key == discovered_key):\n",
    "    print(\"Key found successfully\")"
   ]
  }
 ],
 "metadata": {
  "kernelspec": {
   "display_name": "Python 3",
   "language": "python",
   "name": "python3"
  },
  "language_info": {
   "codemirror_mode": {
    "name": "ipython",
    "version": 3
   },
   "file_extension": ".py",
   "mimetype": "text/x-python",
   "name": "python",
   "nbconvert_exporter": "python",
   "pygments_lexer": "ipython3",
   "version": "3.12.1"
  }
 },
 "nbformat": 4,
 "nbformat_minor": 2
}
