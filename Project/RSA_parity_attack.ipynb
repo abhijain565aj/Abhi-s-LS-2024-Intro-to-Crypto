{
 "cells": [
  {
   "cell_type": "code",
   "execution_count": 227,
   "metadata": {},
   "outputs": [],
   "source": [
    "# import the necessary libraries here\n",
    "from Crypto.Util import number\n",
    "from Crypto.PublicKey import RSA as CryptoRSA\n",
    "from Crypto.Util.number import long_to_bytes, bytes_to_long"
   ]
  },
  {
   "cell_type": "code",
   "execution_count": 228,
   "metadata": {},
   "outputs": [],
   "source": [
    "class RSA:\n",
    "    \"\"\"Implements the RSA public key encryption / decryption.\"\"\"\n",
    "\n",
    "    def __init__(self, key_length):\n",
    "        # define self.p, self.q, self.e, self.n, self.d here based on key_length\n",
    "        # self.key = RSA.generate(key_length)\n",
    "        self.key = CryptoRSA.generate(key_length)\n",
    "        self.p = self.key.p\n",
    "        self.q = self.key.q\n",
    "        self.n = self.key.n\n",
    "        self.e = self.key.e\n",
    "        self.d = self.key.d\n",
    "\n",
    "    def encrypt(self, message):\n",
    "        # return encryption of binary_data here\n",
    "        message_int = bytes_to_long(message)\n",
    "        power = pow(message_int, self.e, self.n)\n",
    "        return power\n",
    "\n",
    "    def decrypt(self, encrypted_int_data):\n",
    "        # return decryption of encrypted_binary_data here\n",
    "        power = pow(encrypted_int_data, self.d, self.n)\n",
    "        return long_to_bytes(power)"
   ]
  },
  {
   "cell_type": "code",
   "execution_count": 229,
   "metadata": {},
   "outputs": [],
   "source": [
    "class RSAParityOracle(RSA):\n",
    "    \"\"\"Extends the RSA class by adding a method to verify the parity of data.\"\"\"\n",
    "\n",
    "    def is_parity_odd(self, encrypted_int_data):\n",
    "        # Decrypt the input data and return whether the resulting number is odd\n",
    "        decrypted_int = pow(encrypted_int_data, self.d, self.n)\n",
    "        return decrypted_int % 2 == 1\n"
   ]
  },
  {
   "cell_type": "markdown",
   "metadata": {},
   "source": [
    "Oracle in a way gives least significant bit each time\n",
    "C = P^e mod n\n",
    "\n",
    "multiplying with 2^e on both sides gives\n",
    "C1 = C*2^e = (2P)^e mod n\n",
    "i.e., C1 is cipher of 2P\n",
    "decrypting msg to get 2P\n",
    "\n",
    "if rightmost bit is on i.e., oracle returns odd then P > N/2\n",
    "otherwise bit is off i.e., oracle returns even then P < N/2\n",
    "\n",
    "again checking for 4P now..\n",
    "if even then P < N/4 or N/2 <= P < 3N/4\n",
    "or if odd then N/4 <= P < N/2 or 3N/4 <= P < N\n",
    "\n",
    "This way each turn doing like binary search we get P finally"
   ]
  },
  {
   "cell_type": "code",
   "execution_count": 230,
   "metadata": {},
   "outputs": [],
   "source": [
    "\n",
    "def parity_oracle_attack(ciphertext, rsa_parity_oracle):\n",
    "    # implement the attack and return the obtained plaintext\n",
    "    e = rsa_parity_oracle.e\n",
    "    n = rsa_parity_oracle.n\n",
    "    left = 0\n",
    "    right = n\n",
    "    multiplier = pow(2, e, n)\n",
    "    \n",
    "    while right - left >= 1:\n",
    "        ciphertext = (ciphertext * multiplier) % n\n",
    "        odd = rsa_parity_oracle.is_parity_odd(ciphertext)\n",
    "\n",
    "        mid = (left + right) // 2\n",
    "        if odd:\n",
    "            left = mid\n",
    "        else:\n",
    "            right = mid\n",
    "    return long_to_bytes(left)\n",
    "\n",
    "        "
   ]
  },
  {
   "cell_type": "code",
   "execution_count": 231,
   "metadata": {},
   "outputs": [
    {
     "name": "stdout",
     "output_type": "stream",
     "text": [
      "Encrypted message is:  95190703287181858901777329166188169881045146673027932460461298463026682091738299068461205661851863319252833745006656518486857487833678264144914229553569826801174857691081253458457863832935114178738838905988790059400046079733607457556534602548499449305699903979661091922948834099827120682884882729035812531084\n",
      "Directly decrypted text is:  b'Hello, World!'\n",
      "Obtained plaintext:  b'Hello, World\\x12'\n"
     ]
    }
   ],
   "source": [
    "def main():\n",
    "    input_bytes = input(\"Enter the message: \")\n",
    "    # input_bytes = \"Hello, World!\"\n",
    "\n",
    "    # Generate a 1024-bit RSA pair\n",
    "    rsa_parity_oracle = RSAParityOracle(1024)\n",
    "\n",
    "    # Encrypt the message\n",
    "    ciphertext = rsa_parity_oracle.encrypt(input_bytes.encode())\n",
    "    print(\"Encrypted message is: \", ciphertext)\n",
    "    \n",
    "    decrypted = rsa_parity_oracle.decrypt(ciphertext)\n",
    "    print(\"Directly decrypted text is: \",decrypted)\n",
    "    \n",
    "    \n",
    "    # Check if the attack works\n",
    "    plaintext = parity_oracle_attack(ciphertext, rsa_parity_oracle)\n",
    "    print(\"Obtained plaintext: \", plaintext)\n",
    "    # assert plaintext == input_bytes.encode()\n",
    "\n",
    "\n",
    "if __name__ == '__main__':\n",
    "    main()"
   ]
  }
 ],
 "metadata": {
  "kernelspec": {
   "display_name": "Python 3",
   "language": "python",
   "name": "python3"
  },
  "language_info": {
   "codemirror_mode": {
    "name": "ipython",
    "version": 3
   },
   "file_extension": ".py",
   "mimetype": "text/x-python",
   "name": "python",
   "nbconvert_exporter": "python",
   "pygments_lexer": "ipython3",
   "version": "3.12.1"
  }
 },
 "nbformat": 4,
 "nbformat_minor": 2
}
